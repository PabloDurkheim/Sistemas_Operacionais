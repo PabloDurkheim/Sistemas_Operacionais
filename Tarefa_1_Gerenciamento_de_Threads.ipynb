{
  "nbformat": 4,
  "nbformat_minor": 0,
  "metadata": {
    "colab": {
      "provenance": []
    },
    "kernelspec": {
      "name": "python3",
      "display_name": "Python 3"
    },
    "language_info": {
      "name": "python"
    }
  },
  "cells": [
    {
      "cell_type": "code",
      "execution_count": null,
      "metadata": {
        "id": "XvMImezKNasG"
      },
      "outputs": [],
      "source": [
        "# UNIVERSIDADE FEDERAL DO RIO GRANDE DO NORTE\n",
        "# Emelyn Clementino Freire - 20220043970\n",
        "# Pablo Durkheim Fernandes do Nascimento - 20230000715\n",
        "# ----------- Tarefa Gerenciamento de Threads ------------------\n",
        "\n",
        "import threading\n",
        "from PIL import Image\n",
        "import numpy as np\n",
        "\n",
        "# Função para calcular Gx (detecção de bordas na direção x)\n",
        "def calculate_Gx(image, result, start_row, end_row):\n",
        "    try:\n",
        "        for i in range(start_row, end_row):\n",
        "            for j in range(1, image.shape[1] - 1):\n",
        "                Gx = (image[i + 1, j - 1] + 2 * image[i + 1, j] + image[i + 1, j + 1]) - \\\n",
        "                     (image[i - 1, j - 1] + 2 * image[i - 1, j] + image[i - 1, j + 1])\n",
        "                result[i, j] = max(0, min(255, Gx))\n",
        "    except IndexError:\n",
        "        pass\n",
        "\n",
        "# Função para calcular Gy (detecção de bordas na direção y)\n",
        "def calculate_Gy(image, result, start_row, end_row):\n",
        "    try:\n",
        "        for i in range(start_row, end_row):\n",
        "            for j in range(1, image.shape[1] - 1):\n",
        "                Gy = (image[i - 1, j + 1] + 2 * image[i, j + 1] + image[i + 1, j + 1]) - \\\n",
        "                     (image[i - 1, j - 1] + 2 * image[i, j - 1] + image[i + 1, j - 1])\n",
        "                result[i, j] = max(0, min(255, Gy))\n",
        "    except IndexError:\n",
        "        pass\n",
        "\n",
        "# Função principal da thread mãe\n",
        "def main_thread():\n",
        "    # Abre a imagem em nível de cinza\n",
        "    img = Image.open(\"imgs/coins.png\")\n",
        "    image_array = np.array(img)\n",
        "\n",
        "    M, N = image_array.shape\n",
        "\n",
        "    # Inicializa as matrizes Gx, Gy e G\n",
        "    Gx = np.zeros((M, N), dtype=np.uint8)\n",
        "    Gy = np.zeros((M, N), dtype=np.uint8)\n",
        "    G = np.zeros((M, N), dtype=np.uint8)\n",
        "\n",
        "    # Divide o trabalho entre as threads para Gx e Gy\n",
        "    mid_row = M // 2\n",
        "    thread1 = threading.Thread(target=calculate_Gx, args=(image_array, Gx, 1, mid_row))\n",
        "    thread2 = threading.Thread(target=calculate_Gy, args=(image_array, Gy, mid_row, M))\n",
        "\n",
        "    # Inicia as threads\n",
        "    thread1.start()\n",
        "    thread2.start()\n",
        "\n",
        "    # Aguarda as threads terminarem\n",
        "    thread1.join()\n",
        "    thread2.join()\n",
        "\n",
        "    # Combina as imagens Gx e Gy para obter a imagem de saída G\n",
        "    G = Gx + Gy\n",
        "    G[G > 255] = 255\n",
        "\n",
        "    # Crie uma imagem PIL a partir da matriz G\n",
        "    output_image = Image.fromarray(G)\n",
        "\n",
        "    # Salva a imagem de saída\n",
        "    output_image.save(\"imgs/imagemDeSaida.png\")\n",
        "\n",
        "if __name__ == \"__main__\":\n",
        "    main_thread()"
      ]
    },
    {
      "cell_type": "markdown",
      "source": [],
      "metadata": {
        "id": "Q_dNOZQaxipu"
      }
    }
  ]
}